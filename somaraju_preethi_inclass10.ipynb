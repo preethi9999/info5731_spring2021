{
  "nbformat": 4,
  "nbformat_minor": 0,
  "metadata": {
    "colab": {
      "name": "Untitled6.ipynb",
      "provenance": [],
      "authorship_tag": "ABX9TyNEgjET0N8pH9QmTx5coYHF",
      "include_colab_link": true
    },
    "kernelspec": {
      "name": "python3",
      "display_name": "Python 3"
    },
    "language_info": {
      "name": "python"
    }
  },
  "cells": [
    {
      "cell_type": "markdown",
      "metadata": {
        "id": "view-in-github",
        "colab_type": "text"
      },
      "source": [
        "<a href=\"https://colab.research.google.com/github/preethi9999/info5731_spring2021/blob/main/somaraju_preethi_inclass10.ipynb\" target=\"_parent\"><img src=\"https://colab.research.google.com/assets/colab-badge.svg\" alt=\"Open In Colab\"/></a>"
      ]
    },
    {
      "cell_type": "markdown",
      "metadata": {
        "id": "Svd_RlQ7xM3z"
      },
      "source": [
        "The purpose of the exercise is to practice different machine learning algorithms for text clustering Please downlad the dataset by using the following link. https://www.kaggle.com/PromptCloudHQ/amazon-reviews-unlocked-mobile-phones (You can also use different text data which you want)\n",
        "\n",
        "Apply the listed clustering methods to the dataset:\n",
        "\n",
        "K means, DBSCAN, Hierarchical clustering.\n",
        "\n",
        "You can refer to of the codes from the follwing link below. https://www.kaggle.com/karthik3890/text-clustering"
      ]
    },
    {
      "cell_type": "code",
      "metadata": {
        "id": "gg72_RmcxXG9"
      },
      "source": [
        "#loading the data and displaying the content\n",
        "\n",
        "data=pd.read_csv(\"/content/sample_data/Amazon_Unlocked_Mobile.csv\")\n",
        "data = data.head(10000)"
      ],
      "execution_count": 43,
      "outputs": []
    },
    {
      "cell_type": "code",
      "metadata": {
        "id": "gXZ2Nlf6xXMs"
      },
      "source": [
        "data_new = data.dropna()"
      ],
      "execution_count": 44,
      "outputs": []
    },
    {
      "cell_type": "code",
      "metadata": {
        "colab": {
          "base_uri": "https://localhost:8080/",
          "height": 351
        },
        "id": "HaBuSJwXxXPf",
        "outputId": "5021c024-3c51-4067-c3ef-cb9c99cad64d"
      },
      "source": [
        "#understanding ratings distribution\n",
        "\n",
        "import seaborn as sns\n",
        "sns.countplot(data_new.Rating)       "
      ],
      "execution_count": 46,
      "outputs": [
        {
          "output_type": "stream",
          "text": [
            "/usr/local/lib/python3.7/dist-packages/seaborn/_decorators.py:43: FutureWarning: Pass the following variable as a keyword arg: x. From version 0.12, the only valid positional argument will be `data`, and passing other arguments without an explicit keyword will result in an error or misinterpretation.\n",
            "  FutureWarning\n"
          ],
          "name": "stderr"
        },
        {
          "output_type": "execute_result",
          "data": {
            "text/plain": [
              "<matplotlib.axes._subplots.AxesSubplot at 0x7f56375e47d0>"
            ]
          },
          "metadata": {
            "tags": []
          },
          "execution_count": 46
        },
        {
          "output_type": "display_data",
          "data": {
            "image/png": "[encoded data removed]",
            "text/plain": [
              "<Figure size 432x288 with 1 Axes>"
            ]
          },
          "metadata": {
            "tags": [],
            "needs_background": "light"
          }
        }
      ]
    },
    {
      "cell_type": "code",
      "metadata": {
        "colab": {
          "base_uri": "https://localhost:8080/"
        },
        "id": "FAh5c1ooxXSh",
        "outputId": "504f7ad0-1c80-4c62-ea9e-e2601ce0f2d2"
      },
      "source": [
        "#datacleaning\n",
        "import seaborn as sns\n",
        "data_new['Rating'].value_counts()"
      ],
      "execution_count": 47,
      "outputs": [
        {
          "output_type": "execute_result",
          "data": {
            "text/plain": [
              "5    3563\n",
              "1    1481\n",
              "4    1031\n",
              "3     639\n",
              "2     512\n",
              "Name: Rating, dtype: int64"
            ]
          },
          "metadata": {
            "tags": []
          },
          "execution_count": 47
        }
      ]
    },
    {
      "cell_type": "code",
      "metadata": {
        "colab": {
          "base_uri": "https://localhost:8080/",
          "height": 351
        },
        "id": "6JvZE6NpxXWT",
        "outputId": "fcf9cc4b-d792-4514-b178-01c9eba804f9"
      },
      "source": [
        "sns.countplot(data_new.Rating)"
      ],
      "execution_count": 48,
      "outputs": [
        {
          "output_type": "stream",
          "text": [
            "/usr/local/lib/python3.7/dist-packages/seaborn/_decorators.py:43: FutureWarning: Pass the following variable as a keyword arg: x. From version 0.12, the only valid positional argument will be `data`, and passing other arguments without an explicit keyword will result in an error or misinterpretation.\n",
            "  FutureWarning\n"
          ],
          "name": "stderr"
        },
        {
          "output_type": "execute_result",
          "data": {
            "text/plain": [
              "<matplotlib.axes._subplots.AxesSubplot at 0x7f5626b89750>"
            ]
          },
          "metadata": {
            "tags": []
          },
          "execution_count": 48
        },
        {
          "output_type": "display_data",
          "data": {
            "image/png": "[encoded data removed]",
            "text/plain": [
              "<Figure size 432x288 with 1 Axes>"
            ]
          },
          "metadata": {
            "tags": [],
            "needs_background": "light"
          }
        }
      ]
    },
    {
      "cell_type": "code",
      "metadata": {
        "colab": {
          "base_uri": "https://localhost:8080/"
        },
        "id": "MiFEgDmWxXZZ",
        "outputId": "8fec381e-c900-4295-a6da-424c147d8e95"
      },
      "source": [
        "#finding sentence containing html tags\n",
        "\n",
        "import re\n",
        "i=0;\n",
        "for sent in data_new['Reviews'].values:\n",
        "    if (len(re.findall('<.*?>', sent))):\n",
        "        print(i)\n",
        "        print(sent)\n",
        "        break;\n",
        "    i += 1;"
      ],
      "execution_count": 49,
      "outputs": [
        {
          "output_type": "stream",
          "text": [
            "3205\n",
            "Unless you know how to jail break this phone... what's the point? Most apps don't support this old phone. <(it's not really old, they just want you to spend money on the newer version. wtf? but whatever)>\n"
          ],
          "name": "stdout"
        }
      ]
    },
    {
      "cell_type": "code",
      "metadata": {
        "id": "tZCbTyQXxXbh"
      },
      "source": [
        "def cleanhtml(sentence):\n",
        "    cleanr = re.compile('<.*?>')\n",
        "    cleantext = re.sub(cleanr, ' ', sentence)\n",
        "    return cleantext"
      ],
      "execution_count": 50,
      "outputs": []
    },
    {
      "cell_type": "code",
      "metadata": {
        "colab": {
          "base_uri": "https://localhost:8080/"
        },
        "id": "RIYR4VfDxXeZ",
        "outputId": "34125baf-2797-450d-9cb6-4ca66e3a29dc"
      },
      "source": [
        "data_new['Cleaned Text'] = data_new['Reviews'].apply(lambda x: \" \".join(x.lower() for x in x.split()))\n",
        "data_new['Cleaned Text'] = data_new['Cleaned Text'].apply(lambda x: cleanhtml(x))\n",
        "data_new['Cleaned Text'] = data_new['Cleaned Text'].apply(lambda x: ''.join(re.sub(r\"[^a-zA-Z0-9]+\", ' ', charctr) for charctr in x ))"
      ],
      "execution_count": 51,
      "outputs": [
        {
          "output_type": "stream",
          "text": [
            "/usr/local/lib/python3.7/dist-packages/ipykernel_launcher.py:1: SettingWithCopyWarning: \n",
            "A value is trying to be set on a copy of a slice from a DataFrame.\n",
            "Try using .loc[row_indexer,col_indexer] = value instead\n",
            "\n",
            "See the caveats in the documentation: https://pandas.pydata.org/pandas-docs/stable/user_guide/indexing.html#returning-a-view-versus-a-copy\n",
            "  \"\"\"Entry point for launching an IPython kernel.\n",
            "/usr/local/lib/python3.7/dist-packages/ipykernel_launcher.py:2: SettingWithCopyWarning: \n",
            "A value is trying to be set on a copy of a slice from a DataFrame.\n",
            "Try using .loc[row_indexer,col_indexer] = value instead\n",
            "\n",
            "See the caveats in the documentation: https://pandas.pydata.org/pandas-docs/stable/user_guide/indexing.html#returning-a-view-versus-a-copy\n",
            "  \n",
            "/usr/local/lib/python3.7/dist-packages/ipykernel_launcher.py:3: SettingWithCopyWarning: \n",
            "A value is trying to be set on a copy of a slice from a DataFrame.\n",
            "Try using .loc[row_indexer,col_indexer] = value instead\n",
            "\n",
            "See the caveats in the documentation: https://pandas.pydata.org/pandas-docs/stable/user_guide/indexing.html#returning-a-view-versus-a-copy\n",
            "  This is separate from the ipykernel package so we can avoid doing imports until\n"
          ],
          "name": "stderr"
        }
      ]
    },
    {
      "cell_type": "code",
      "metadata": {
        "colab": {
          "base_uri": "https://localhost:8080/"
        },
        "id": "WwbgRGqgxXhC",
        "outputId": "7a7e9c2d-c1de-4f14-a832-1ade3aeec76f"
      },
      "source": [
        "import nltk\n",
        "nltk.download('stopwords')\n",
        "from nltk.corpus import stopwords\n",
        "stop = stopwords.words('english')\n",
        "data_new['Cleaned Text'] = data_new['Cleaned Text'].apply(lambda x: \" \".join(x for x in x.split() if x not in stop))"
      ],
      "execution_count": 52,
      "outputs": [
        {
          "output_type": "stream",
          "text": [
            "[nltk_data] Downloading package stopwords to /root/nltk_data...\n",
            "[nltk_data]   Package stopwords is already up-to-date!\n"
          ],
          "name": "stdout"
        },
        {
          "output_type": "stream",
          "text": [
            "/usr/local/lib/python3.7/dist-packages/ipykernel_launcher.py:5: SettingWithCopyWarning: \n",
            "A value is trying to be set on a copy of a slice from a DataFrame.\n",
            "Try using .loc[row_indexer,col_indexer] = value instead\n",
            "\n",
            "See the caveats in the documentation: https://pandas.pydata.org/pandas-docs/stable/user_guide/indexing.html#returning-a-view-versus-a-copy\n",
            "  \"\"\"\n"
          ],
          "name": "stderr"
        }
      ]
    },
    {
      "cell_type": "code",
      "metadata": {
        "id": "wpZ7hgenW5qU"
      },
      "source": [
        "#Kmeans method\n",
        "\n",
        "from sklearn.feature_extraction.text import CountVectorizer\n",
        "count_vect = CountVectorizer()\n",
        "bow = count_vect.fit_transform(data_new['Cleaned Text'].values)"
      ],
      "execution_count": 53,
      "outputs": []
    },
    {
      "cell_type": "code",
      "metadata": {
        "id": "Ty92QeA1W5uH"
      },
      "source": [
        "# understand kind of words generated\n",
        "\n",
        "terms = count_vect.get_feature_names()"
      ],
      "execution_count": 54,
      "outputs": []
    },
    {
      "cell_type": "code",
      "metadata": {
        "colab": {
          "base_uri": "https://localhost:8080/"
        },
        "id": "h9cRPay6W5wg",
        "outputId": "c31c5708-a984-4e12-c6a1-e483ca701001"
      },
      "source": [
        "# using all processes jobs=-1 and k means++ for starting initilization advantage\n",
        "\n",
        "from sklearn.cluster import KMeans\n",
        "model = KMeans(n_clusters = 10, init='k-means++', n_jobs = -1, random_state=99)\n",
        "model.fit(bow)"
      ],
      "execution_count": 55,
      "outputs": [
        {
          "output_type": "execute_result",
          "data": {
            "text/plain": [
              "KMeans(algorithm='auto', copy_x=True, init='k-means++', max_iter=300,\n",
              "       n_clusters=10, n_init=10, n_jobs=-1, precompute_distances='auto',\n",
              "       random_state=99, tol=0.0001, verbose=0)"
            ]
          },
          "metadata": {
            "tags": []
          },
          "execution_count": 55
        }
      ]
    },
    {
      "cell_type": "code",
      "metadata": {
        "colab": {
          "base_uri": "https://localhost:8080/"
        },
        "id": "rB-uiqk1W5y6",
        "outputId": "e3056f74-452d-4291-ed19-6f18de880c25"
      },
      "source": [
        "labels = model.labels_\n",
        "cluster_center = model.cluster_centers_\n",
        "cluster_center"
      ],
      "execution_count": 56,
      "outputs": [
        {
          "output_type": "execute_result",
          "data": {
            "text/plain": [
              "array([[0.02807018, 0.        , 0.        , ..., 0.        , 0.        ,\n",
              "        0.        ],\n",
              "       [0.02714932, 0.        , 0.        , ..., 0.00904977, 0.00452489,\n",
              "        0.00452489],\n",
              "       [0.        , 0.        , 0.        , ..., 0.        , 0.        ,\n",
              "        0.01666667],\n",
              "       ...,\n",
              "       [0.33333333, 0.        , 0.        , ..., 0.        , 0.        ,\n",
              "        0.66666667],\n",
              "       [0.15789474, 0.        , 0.        , ..., 0.        , 0.        ,\n",
              "        0.        ],\n",
              "       [0.00231392, 0.        , 0.        , ..., 0.        , 0.        ,\n",
              "        0.        ]])"
            ]
          },
          "metadata": {
            "tags": []
          },
          "execution_count": 56
        }
      ]
    },
    {
      "cell_type": "code",
      "metadata": {
        "colab": {
          "base_uri": "https://localhost:8080/"
        },
        "id": "v-Se6jAuW51S",
        "outputId": "dcf272a6-afa4-4108-8d1c-a66185c1225e"
      },
      "source": [
        "# which tells us that clusters are far away from each other \n",
        "\n",
        "from sklearn import metrics\n",
        "silhouette_score = metrics.silhouette_score(bow, labels, metric='euclidean')\n",
        "silhouette_score"
      ],
      "execution_count": 57,
      "outputs": [
        {
          "output_type": "execute_result",
          "data": {
            "text/plain": [
              "0.2080210321419799"
            ]
          },
          "metadata": {
            "tags": []
          },
          "execution_count": 57
        }
      ]
    },
    {
      "cell_type": "code",
      "metadata": {
        "colab": {
          "base_uri": "https://localhost:8080/"
        },
        "id": "8gt8XJYRW54R",
        "outputId": "7fd52fb6-8ee1-4acf-e479-4f4c2db90ddf"
      },
      "source": [
        "# Giving Labels/assigning a cluster to each point/text \n",
        "\n",
        "df = data_new\n",
        "df['Bow Clus Label'] = model.labels_"
      ],
      "execution_count": 63,
      "outputs": [
        {
          "output_type": "stream",
          "text": [
            "/usr/local/lib/python3.7/dist-packages/ipykernel_launcher.py:4: SettingWithCopyWarning: \n",
            "A value is trying to be set on a copy of a slice from a DataFrame.\n",
            "Try using .loc[row_indexer,col_indexer] = value instead\n",
            "\n",
            "See the caveats in the documentation: https://pandas.pydata.org/pandas-docs/stable/user_guide/indexing.html#returning-a-view-versus-a-copy\n",
            "  after removing the cwd from sys.path.\n"
          ],
          "name": "stderr"
        }
      ]
    },
    {
      "cell_type": "code",
      "metadata": {
        "colab": {
          "base_uri": "https://localhost:8080/"
        },
        "id": "_Dl_cxkZcid2",
        "outputId": "5d08d211-544f-4660-86e1-382ffc63144f"
      },
      "source": [
        "#How many points belong to each cluster\n",
        "\n",
        "df.groupby(['Bow Clus Label'])['Reviews'].count()"
      ],
      "execution_count": 65,
      "outputs": [
        {
          "output_type": "execute_result",
          "data": {
            "text/plain": [
              "Bow Clus Label\n",
              "0     285\n",
              "1     221\n",
              "2      60\n",
              "3       4\n",
              "4       1\n",
              "5     171\n",
              "6    1276\n",
              "7       3\n",
              "8      19\n",
              "9    5186\n",
              "Name: Reviews, dtype: int64"
            ]
          },
          "metadata": {
            "tags": []
          },
          "execution_count": 65
        }
      ]
    },
    {
      "cell_type": "code",
      "metadata": {
        "colab": {
          "base_uri": "https://localhost:8080/"
        },
        "id": "Eu82SomaW57N",
        "outputId": "aba98b92-6b48-4256-b71c-ccd8905cb6ce"
      },
      "source": [
        "#To find the top 10 features of cluster centriod\n",
        "\n",
        "print(\"Top 10 terms per cluster:\")\n",
        "order_centroids = model.cluster_centers_.argsort()[:, ::-1]\n",
        "terms = count_vect.get_feature_names()\n",
        "for i in range(10):\n",
        "    print(\"Cluster %d:\" % i, end='')\n",
        "    for ind in order_centroids[i, :10]:\n",
        "        print(' %s' % terms[ind], end='')\n",
        "        print()"
      ],
      "execution_count": 66,
      "outputs": [
        {
          "output_type": "stream",
          "text": [
            "Top 10 terms per cluster:\n",
            "Cluster 0: iphone\n",
            " phone\n",
            " new\n",
            " like\n",
            " apple\n",
            " buy\n",
            " used\n",
            " 3gs\n",
            " one\n",
            " screen\n",
            "Cluster 1: phone\n",
            " screen\n",
            " good\n",
            " great\n",
            " one\n",
            " camera\n",
            " battery\n",
            " like\n",
            " price\n",
            " speakers\n",
            "Cluster 2: phone\n",
            " screen\n",
            " use\n",
            " like\n",
            " good\n",
            " really\n",
            " card\n",
            " sim\n",
            " great\n",
            " battery\n",
            "Cluster 3: phone\n",
            " camera\n",
            " good\n",
            " like\n",
            " quality\n",
            " one\n",
            " price\n",
            " screen\n",
            " display\n",
            " app\n",
            "Cluster 4: phone\n",
            " idol\n",
            " camera\n",
            " one\n",
            " like\n",
            " sound\n",
            " think\n",
            " device\n",
            " quality\n",
            " screen\n",
            "Cluster 5: phone\n",
            " one\n",
            " good\n",
            " would\n",
            " great\n",
            " screen\n",
            " like\n",
            " use\n",
            " battery\n",
            " get\n",
            "Cluster 6: phone\n",
            " new\n",
            " great\n",
            " good\n",
            " one\n",
            " would\n",
            " work\n",
            " screen\n",
            " use\n",
            " like\n",
            "Cluster 7: like\n",
            " phone\n",
            " camera\n",
            " screen\n",
            " android\n",
            " keyboard\n",
            " also\n",
            " would\n",
            " google\n",
            " phones\n",
            "Cluster 8: phone\n",
            " screen\n",
            " like\n",
            " one\n",
            " good\n",
            " use\n",
            " battery\n",
            " phones\n",
            " time\n",
            " would\n",
            "Cluster 9: phone\n",
            " great\n",
            " good\n",
            " works\n",
            " new\n",
            " work\n",
            " like\n",
            " iphone\n",
            " product\n",
            " price\n"
          ],
          "name": "stdout"
        }
      ]
    },
    {
      "cell_type": "code",
      "metadata": {
        "colab": {
          "base_uri": "https://localhost:8080/",
          "height": 295
        },
        "id": "fQmeQLUkW5-Y",
        "outputId": "7ee2c2dd-cc5d-4f9e-b827-919df133f71a"
      },
      "source": [
        "# visually how points or reviews are distributed across 10 clusters \n",
        "\n",
        "import matplotlib.pyplot as plt\n",
        "plt.bar([x for x in range(10)], df.groupby(['Bow Clus Label'])['Reviews'].count(), alpha = 0.4)\n",
        "plt.title('KMeans cluster points')\n",
        "plt.xlabel('Cluster number')\n",
        "plt.ylabel('Number of points')\n",
        "plt.show()"
      ],
      "execution_count": 67,
      "outputs": [
        {
          "output_type": "display_data",
          "data": {
            "image/png": "[encoded data removed]",
            "text/plain": [
              "<Figure size 432x288 with 1 Axes>"
            ]
          },
          "metadata": {
            "tags": [],
            "needs_background": "light"
          }
        }
      ]
    },
    {
      "cell_type": "code",
      "metadata": {
        "id": "sLYlR0zwW6Az"
      },
      "source": [
        "sentences = []\n",
        "for sentence in data_new['Cleaned Text'].values:\n",
        "  sentences.append(sentence.split())\n",
        "\n",
        "import gensim\n",
        "w2v_model=gensim.models.Word2Vec(sentences,size=100, workers=4)"
      ],
      "execution_count": 71,
      "outputs": []
    },
    {
      "cell_type": "code",
      "metadata": {
        "colab": {
          "base_uri": "https://localhost:8080/"
        },
        "id": "YT4OSVPWW6Ew",
        "outputId": "aadf05e4-a952-4d28-8add-6cfae890b809"
      },
      "source": [
        "num_clust = [x for x in range(3,11)]\n",
        "num_clust"
      ],
      "execution_count": 72,
      "outputs": [
        {
          "output_type": "execute_result",
          "data": {
            "text/plain": [
              "[3, 4, 5, 6, 7, 8, 9, 10]"
            ]
          },
          "metadata": {
            "tags": []
          },
          "execution_count": 72
        }
      ]
    },
    {
      "cell_type": "code",
      "metadata": {
        "colab": {
          "base_uri": "https://localhost:8080/"
        },
        "id": "lnTLbAIOfMgE",
        "outputId": "d50188bd-a93f-42bb-e654-ff43cf77f07b"
      },
      "source": [
        "import numpy as np\n",
        "sent_vectors = []\n",
        "for sent in sentences:\n",
        "  sent_vec = np.zeros(100)\n",
        "  cnt_words = 0\n",
        "  for word in sent:\n",
        "    try:\n",
        "      vec = w2v_model.wv[word]\n",
        "      sent_vec += vec\n",
        "      cnt_words += 1\n",
        "    except:\n",
        "      pass\n",
        "  sent_vec /= cnt_words\n",
        "  sent_vectors.append(sent_vec)\n",
        "sent_vectors = np.array(sent_vectors)\n",
        "sent_vectors = np.nan_to_num(sent_vectors)"
      ],
      "execution_count": 75,
      "outputs": [
        {
          "output_type": "stream",
          "text": [
            "/usr/local/lib/python3.7/dist-packages/ipykernel_launcher.py:13: RuntimeWarning: invalid value encountered in true_divide\n",
            "  del sys.path[0]\n"
          ],
          "name": "stderr"
        }
      ]
    },
    {
      "cell_type": "code",
      "metadata": {
        "colab": {
          "base_uri": "https://localhost:8080/",
          "height": 295
        },
        "id": "OnxFyMM8xXjd",
        "outputId": "0d956a4f-517d-43c9-fdef-60eb8aea8d6f"
      },
      "source": [
        "# elbow curve\n",
        "\n",
        "squared_errors = []\n",
        "for cluster in num_clus:\n",
        "    kmeans = KMeans(n_clusters = cluster).fit(sent_vectors)\n",
        "    squared_errors.append(kmeans.inertia_)\n",
        "    \n",
        "optimal_clusters = np.argmin(squared_errors) + 2 \n",
        "plt.plot(num_clus, squared_errors)\n",
        "plt.title(\"Elbow Curve to find number of clusters\")\n",
        "plt.xlabel(\"Number of clusters\")\n",
        "plt.ylabel(\"Squared Loss\")\n",
        "xy = (optimal_clusters, min(squared_errors))\n",
        "plt.annotate('(%s, %s)' % xy, xy = xy, textcoords='data')\n",
        "plt.show()"
      ],
      "execution_count": 77,
      "outputs": [
        {
          "output_type": "display_data",
          "data": {
            "image/png": "[encoded data removed]",
            "text/plain": [
              "<Figure size 432x288 with 1 Axes>"
            ]
          },
          "metadata": {
            "tags": [],
            "needs_background": "light"
          }
        }
      ]
    },
    {
      "cell_type": "code",
      "metadata": {
        "colab": {
          "base_uri": "https://localhost:8080/"
        },
        "id": "juHUwW00xXmQ",
        "outputId": "5c3088af-646b-48cc-d37e-d07a913020ff"
      },
      "source": [
        "print (\"The optimal number of clusters: \", optimal_clusters)\n",
        "print (\"The loss for optimal cluster: \", min(squared_errors))"
      ],
      "execution_count": 78,
      "outputs": [
        {
          "output_type": "stream",
          "text": [
            "The optimal number of clusters:  9\n",
            "The loss for optimal cluster:  1843.6831870469955\n"
          ],
          "name": "stdout"
        }
      ]
    },
    {
      "cell_type": "code",
      "metadata": {
        "colab": {
          "base_uri": "https://localhost:8080/"
        },
        "id": "o7FvRC9QxXpd",
        "outputId": "caf792f4-e349-4a83-8066-cc7f9f0ddc54"
      },
      "source": [
        "# Training the best model\n",
        "from sklearn.cluster import KMeans\n",
        "model2 = KMeans(n_clusters = optimal_clusters)\n",
        "model2.fit(sent_vectors)"
      ],
      "execution_count": 79,
      "outputs": [
        {
          "output_type": "execute_result",
          "data": {
            "text/plain": [
              "KMeans(algorithm='auto', copy_x=True, init='k-means++', max_iter=300,\n",
              "       n_clusters=9, n_init=10, n_jobs=None, precompute_distances='auto',\n",
              "       random_state=None, tol=0.0001, verbose=0)"
            ]
          },
          "metadata": {
            "tags": []
          },
          "execution_count": 79
        }
      ]
    },
    {
      "cell_type": "code",
      "metadata": {
        "colab": {
          "base_uri": "https://localhost:8080/"
        },
        "id": "Smi7ZGTtxXsK",
        "outputId": "0948af8c-da0a-45ec-afe6-bcf602a7da9e"
      },
      "source": [
        "word_cluster_pred = model2.predict(sent_vectors)\n",
        "word_cluster_pred_2 = model2.labels_\n",
        "word_cluster_center = model2.cluster_centers_\n",
        "word_cluster_center[1:2]"
      ],
      "execution_count": 80,
      "outputs": [
        {
          "output_type": "execute_result",
          "data": {
            "text/plain": [
              "array([[-0.37022237,  0.68430651,  0.34470582,  0.00181774,  0.0823254 ,\n",
              "        -0.00459267,  0.68024127, -0.22281218,  0.31506633, -0.24506185,\n",
              "         0.52766125, -0.01450369,  0.35711255, -0.26926696,  0.0888411 ,\n",
              "         0.27099229, -0.21685332,  0.25055269, -0.17623791, -0.26552087,\n",
              "         0.24818794,  0.05410311,  0.2836734 ,  0.0788842 , -0.40033956,\n",
              "        -0.34303728,  0.18925958,  0.14282232,  0.53929428, -0.01008349,\n",
              "         0.22257294, -0.50078622,  0.83819013,  0.1583123 ,  0.17221559,\n",
              "        -0.13023604, -0.2713831 ,  0.1016697 , -0.44980562, -0.49299294,\n",
              "         0.33925487,  0.57159668,  0.23193102,  0.16127873, -0.29589895,\n",
              "         0.10935191,  0.19838754,  0.06133627,  0.20114448, -0.28324409,\n",
              "         0.78677213,  0.4391173 , -0.09395155, -0.23440591, -0.14195041,\n",
              "        -0.63729477, -0.11374705, -0.58054413, -0.19505185,  0.56880843,\n",
              "        -0.03100386, -0.1248896 ,  0.19595515, -0.04121602, -0.22294103,\n",
              "        -0.2054076 , -0.39959937,  0.68255632,  0.03593296,  0.17172985,\n",
              "         0.42557965, -0.02630953, -0.20208418,  0.01666079,  0.44927724,\n",
              "        -0.19650143,  0.14689835, -0.71017549,  0.01920783,  0.07714316,\n",
              "         0.36569757,  0.34394849, -0.15083325,  0.24538193, -0.51385172,\n",
              "        -0.09059084,  0.82665827,  0.24056043, -0.21341704, -0.31137013,\n",
              "        -0.14887287, -0.06878414, -0.14078207,  0.2801882 ,  0.03616849,\n",
              "         0.13128963,  0.62141097,  0.08337948, -0.60958123, -0.38618997]])"
            ]
          },
          "metadata": {
            "tags": []
          },
          "execution_count": 80
        }
      ]
    },
    {
      "cell_type": "code",
      "metadata": {
        "id": "RDwJwbc-xXuk"
      },
      "source": [
        "#DBSCAN clustering\n",
        "\n",
        "from sklearn.cluster import DBSCAN"
      ],
      "execution_count": 81,
      "outputs": []
    },
    {
      "cell_type": "code",
      "metadata": {
        "id": "kxJF1xiUgopS"
      },
      "source": [
        "# Computing 200th Nearest neighbour distance\n",
        "\n",
        "minPts = 2 * 100\n",
        "def lower_bound(nums, target):\n",
        "    l, r = 0, len(nums) - 1\n",
        "    while l <= r:\n",
        "        mid = int(l + (r - l) / 2)\n",
        "        if nums[mid] >= target:\n",
        "            r = mid - 1\n",
        "        else:\n",
        "            l = mid + 1\n",
        "    return l\n",
        "\n",
        "def compute200thnearestneighbour(x, data):\n",
        "    dists = []\n",
        "    for val in data:\n",
        "        dist = np.sum((x - val) **2 )\n",
        "        if(len(dists) == 200 and dists[199] > dist):\n",
        "            l = int(lower_bound(dists, dist))\n",
        "            if l < 200 and l >= 0 and dists[l] > dist:\n",
        "                dists[l] = dist\n",
        "        else:\n",
        "            dists.append(dist)\n",
        "            dists.sort()\n",
        "    \n",
        "    return dists[199]"
      ],
      "execution_count": 82,
      "outputs": []
    },
    {
      "cell_type": "code",
      "metadata": {
        "id": "cxYYgT6Ugotn"
      },
      "source": [
        "#Computing the 200th nearest neighbour distance of some point the dataset\n",
        "\n",
        "twohundrethneigh = []\n",
        "for val in sent_vectors[:1500]:\n",
        "    twohundrethneigh.append( compute200thnearestneighbour(val, sent_vectors[:1500]) )\n",
        "twohundrethneigh.sort()"
      ],
      "execution_count": 83,
      "outputs": []
    },
    {
      "cell_type": "code",
      "metadata": {
        "colab": {
          "base_uri": "https://localhost:8080/",
          "height": 295
        },
        "id": "583Nv9SMgovz",
        "outputId": "ee425490-7741-4234-c615-7a2f8577943c"
      },
      "source": [
        "# Plotting for the Elbow Method\n",
        "\n",
        "plt.figure(figsize=(14,4))\n",
        "plt.title(\"Elbow Method for Finding the right Eps hyperparameter\")\n",
        "plt.plot([x for x in range(len(twohundrethneigh))], twohundrethneigh)\n",
        "plt.xlabel(\"Number of points\")\n",
        "plt.ylabel(\"Distance of 200th Nearest Neighbour\")\n",
        "plt.show()"
      ],
      "execution_count": 85,
      "outputs": [
        {
          "output_type": "display_data",
          "data": {
            "image/png": "[encoded data removed]",
            "text/plain": [
              "<Figure size 1008x288 with 1 Axes>"
            ]
          },
          "metadata": {
            "tags": [],
            "needs_background": "light"
          }
        }
      ]
    },
    {
      "cell_type": "code",
      "metadata": {
        "colab": {
          "base_uri": "https://localhost:8080/",
          "height": 269
        },
        "id": "kEnO6yPegoyt",
        "outputId": "63ce3008-9071-40d4-ea10-13e8b3bf220d"
      },
      "source": [
        "# Training DBSCAN \n",
        "\n",
        "model = DBSCAN(eps = 5, min_samples = minPts, n_jobs=-1)\n",
        "model.fit(sent_vectors)\n",
        "\n",
        "dbscandf = df\n",
        "dbscandf['AVG-W2V Clus Label'] = model.labels_\n",
        "dbscandf.groupby(['AVG-W2V Clus Label'])['Product Name', 'Brand Name', 'Reviews'].count()"
      ],
      "execution_count": 86,
      "outputs": [
        {
          "output_type": "stream",
          "text": [
            "/usr/local/lib/python3.7/dist-packages/ipykernel_launcher.py:7: SettingWithCopyWarning: \n",
            "A value is trying to be set on a copy of a slice from a DataFrame.\n",
            "Try using .loc[row_indexer,col_indexer] = value instead\n",
            "\n",
            "See the caveats in the documentation: https://pandas.pydata.org/pandas-docs/stable/user_guide/indexing.html#returning-a-view-versus-a-copy\n",
            "  import sys\n",
            "/usr/local/lib/python3.7/dist-packages/ipykernel_launcher.py:8: FutureWarning: Indexing with multiple keys (implicitly converted to a tuple of keys) will be deprecated, use a list instead.\n",
            "  \n"
          ],
          "name": "stderr"
        },
        {
          "output_type": "execute_result",
          "data": {
            "text/html": [
              "<div>\n",
              "<style scoped>\n",
              "    .dataframe tbody tr th:only-of-type {\n",
              "        vertical-align: middle;\n",
              "    }\n",
              "\n",
              "    .dataframe tbody tr th {\n",
              "        vertical-align: top;\n",
              "    }\n",
              "\n",
              "    .dataframe thead th {\n",
              "        text-align: right;\n",
              "    }\n",
              "</style>\n",
              "<table border=\"1\" class=\"dataframe\">\n",
              "  <thead>\n",
              "    <tr style=\"text-align: right;\">\n",
              "      <th></th>\n",
              "      <th>Product Name</th>\n",
              "      <th>Brand Name</th>\n",
              "      <th>Reviews</th>\n",
              "    </tr>\n",
              "    <tr>\n",
              "      <th>AVG-W2V Clus Label</th>\n",
              "      <th></th>\n",
              "      <th></th>\n",
              "      <th></th>\n",
              "    </tr>\n",
              "  </thead>\n",
              "  <tbody>\n",
              "    <tr>\n",
              "      <th>0</th>\n",
              "      <td>7226</td>\n",
              "      <td>7226</td>\n",
              "      <td>7226</td>\n",
              "    </tr>\n",
              "  </tbody>\n",
              "</table>\n",
              "</div>"
            ],
            "text/plain": [
              "                    Product Name  Brand Name  Reviews\n",
              "AVG-W2V Clus Label                                   \n",
              "0                           7226        7226     7226"
            ]
          },
          "metadata": {
            "tags": []
          },
          "execution_count": 86
        }
      ]
    },
    {
      "cell_type": "code",
      "metadata": {
        "colab": {
          "base_uri": "https://localhost:8080/",
          "height": 285
        },
        "id": "UobiNBYtgo0w",
        "outputId": "1fb74060-a77e-42cb-dba9-7df4be2f9700"
      },
      "source": [
        "#Hierarchical Clustering\n",
        "\n",
        "import scipy\n",
        "from scipy.cluster import hierarchy\n",
        "dendro=hierarchy.dendrogram(hierarchy.linkage(sent_vectors, method='ward'))\n",
        "plt.axhline(y=35)"
      ],
      "execution_count": 87,
      "outputs": [
        {
          "output_type": "execute_result",
          "data": {
            "text/plain": [
              "<matplotlib.lines.Line2D at 0x7f563fe5ea50>"
            ]
          },
          "metadata": {
            "tags": []
          },
          "execution_count": 87
        },
        {
          "output_type": "display_data",
          "data": {
            "image/png": "[encoded data removed]",
            "text/plain": [
              "<Figure size 432x288 with 1 Axes>"
            ]
          },
          "metadata": {
            "tags": [],
            "needs_background": "light"
          }
        }
      ]
    },
    {
      "cell_type": "code",
      "metadata": {
        "id": "ARVcosJnxXxV"
      },
      "source": [
        "from sklearn.cluster import AgglomerativeClustering\n",
        "\n",
        "cluster = AgglomerativeClustering(n_clusters=5, affinity='euclidean', linkage='ward')\n",
        "Agg=cluster.fit_predict(sent_vectors)"
      ],
      "execution_count": 88,
      "outputs": []
    },
    {
      "cell_type": "code",
      "metadata": {
        "colab": {
          "base_uri": "https://localhost:8080/"
        },
        "id": "mtMj1dD1xX0J",
        "outputId": "40d05294-1688-47ea-b4ce-0f48658fca5d"
      },
      "source": [
        "#assigning cluster to each point\n",
        "\n",
        "hcdf = dbscandf\n",
        "hcdf['AVG-W2V Clus Label'] = cluster.labels_"
      ],
      "execution_count": 91,
      "outputs": [
        {
          "output_type": "stream",
          "text": [
            "/usr/local/lib/python3.7/dist-packages/ipykernel_launcher.py:4: SettingWithCopyWarning: \n",
            "A value is trying to be set on a copy of a slice from a DataFrame.\n",
            "Try using .loc[row_indexer,col_indexer] = value instead\n",
            "\n",
            "See the caveats in the documentation: https://pandas.pydata.org/pandas-docs/stable/user_guide/indexing.html#returning-a-view-versus-a-copy\n",
            "  after removing the cwd from sys.path.\n"
          ],
          "name": "stderr"
        }
      ]
    },
    {
      "cell_type": "code",
      "metadata": {
        "colab": {
          "base_uri": "https://localhost:8080/"
        },
        "id": "XaoDGDPOxX3i",
        "outputId": "7444438f-e239-4ca7-d4b6-b20b52f784e1"
      },
      "source": [
        "# How many points belong to each cluster\n",
        "\n",
        "hcdf.groupby(['AVG-W2V Clus Label'])['Reviews'].count()"
      ],
      "execution_count": 92,
      "outputs": [
        {
          "output_type": "execute_result",
          "data": {
            "text/plain": [
              "AVG-W2V Clus Label\n",
              "0    2031\n",
              "1    4411\n",
              "2     449\n",
              "3     140\n",
              "4     195\n",
              "Name: Reviews, dtype: int64"
            ]
          },
          "metadata": {
            "tags": []
          },
          "execution_count": 92
        }
      ]
    },
    {
      "cell_type": "markdown",
      "metadata": {
        "id": "6QJpIM4bqo-A"
      },
      "source": [
        "In one paragraph, please compare K means, DBSCAN and Hierarchical clustering."
      ]
    },
    {
      "cell_type": "code",
      "metadata": {
        "id": "JHijtSCDlt9I"
      },
      "source": [
        "'''\n",
        "In the above we have used elbow method to find the optimal number of clusters for k-means and for DBSCAN clustering we have found the optimal number of epsilons \n",
        "and used dendogram for Hierarchial clustering. These are the popular clustering algorithms. if we look at the above diagrams there is no clear distinction if clusters\n",
        "in dendogram or DBSCAN clustering where as with Kmeans clusters are clearly defined and very far each other which means there is not intersection of words.\n",
        " so for my data set KNN clustering seems to be best bet. '''"
      ],
      "execution_count": null,
      "outputs": []
    },
    {
      "cell_type": "code",
      "metadata": {
        "id": "E1r1I-0ZluTl"
      },
      "source": [
        ""
      ],
      "execution_count": null,
      "outputs": []
    }
  ]
}